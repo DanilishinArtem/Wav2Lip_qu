{
 "cells": [
  {
   "cell_type": "code",
   "execution_count": 560,
   "id": "d965199c",
   "metadata": {},
   "outputs": [],
   "source": [
    "import warnings\n",
    "warnings.filterwarnings(\"ignore\")\n",
    "from abc import ABC, abstractmethod\n",
    "import numpy as np\n",
    "import reedsolo\n",
    "import time\n",
    "\n",
    "class baseLinLayer(ABC):\n",
    "    def __init__(self, weights):\n",
    "        self.weights = weights\n",
    "\n",
    "    @abstractmethod\n",
    "    def bitflip(self, k: int):\n",
    "        pass\n",
    "\n",
    "    @abstractmethod\n",
    "    def forward(self):\n",
    "        pass\n",
    "\n",
    "class regLinLayer(baseLinLayer):\n",
    "    def __init__(self, weights):\n",
    "        super().__init__(weights=weights)\n",
    "        self.time_ = []\n",
    "    \n",
    "    def bitflip(self, k: int):\n",
    "        # k in [0,...,15]\n",
    "        rand_ind = np.random.randint(0, self.weights.ravel().size)\n",
    "        source_number = self.weights.ravel()[rand_ind]\n",
    "        flipped = np.frombuffer(source_number.tobytes(), dtype=np.uint16)[0] ^ (1 << k)\n",
    "        corr_number = np.frombuffer(np.uint16(flipped).tobytes(), dtype=np.float16)[0]\n",
    "        self.weights.ravel()[rand_ind] = corr_number\n",
    "        print(\"source number: {}, corr number: {}\".format(source_number, corr_number))\n",
    "\n",
    "    def forward(self, X):\n",
    "        start = time.time()\n",
    "        res = X @ self.weights\n",
    "        self.time_.append(time.time() - start)\n",
    "        return res\n",
    "    \n",
    "class safeLinLayer(baseLinLayer):\n",
    "    def __init__(self, weights, nsym: int = 2):\n",
    "        super().__init__(weights=weights)\n",
    "        self.nsym = nsym\n",
    "        self.original_len = weights.shape[1]\n",
    "        self.rs = reedsolo.RSCodec(self.nsym)\n",
    "        self.weights = self.encode_RS_rows(weights)\n",
    "        self.time_ = []\n",
    "\n",
    "    def encode_RS_rows(self, matrix: np.ndarray):\n",
    "        encoded = []\n",
    "        for row in matrix:\n",
    "            bytes_row = row.astype(np.float16).tobytes()\n",
    "            encoded_bytes = self.rs.encode(bytes_row)\n",
    "            encoded.append(np.frombuffer(encoded_bytes, dtype=np.uint8))\n",
    "        return np.array(encoded)\n",
    "    \n",
    "    def decode_RS_rows(self, matrix_bytes: np.ndarray):\n",
    "        decoded = []\n",
    "        for row in matrix_bytes:\n",
    "            try:\n",
    "                decoded_bytes = self.rs.decode(row.tobytes())[0]\n",
    "                decoded.append(np.frombuffer(decoded_bytes, dtype=np.float16))\n",
    "            except reedsolo.ReedSolomonError:\n",
    "                decoded.append(np.full(self.original_len, np.nan))\n",
    "        return np.stack(decoded)\n",
    "\n",
    "    def bitflip(self, k: int):\n",
    "        # k in [0,...,7]\n",
    "        rand_ind = np.random.randint(0, self.weights.ravel().size)\n",
    "        source_number = self.weights.ravel()[rand_ind]\n",
    "        flipped = source_number ^ (1 << k)\n",
    "        corr_number = np.frombuffer(flipped.tobytes(), dtype=np.uint8)[0]\n",
    "        self.weights.ravel()[rand_ind] = corr_number\n",
    "        print(\"source number: {}, corr number: {}\".format(source_number, corr_number))\n",
    "    \n",
    "    def forward(self, X):\n",
    "        start = time.time()\n",
    "        res = X @ self.decode_RS_rows(self.weights)\n",
    "        self.time_.append(time.time() - start)\n",
    "        return res"
   ]
  },
  {
   "cell_type": "code",
   "execution_count": 561,
   "id": "344e5795",
   "metadata": {},
   "outputs": [],
   "source": [
    "from tqdm import tqdm\n",
    "\n",
    "n = 2048\n",
    "m = 2048\n",
    "\n",
    "# X = np.random.randn(4, 5).astype(np.float16)\n",
    "# W = np.random.randn(5, 4).astype(np.float16)\n",
    "\n",
    "X = np.random.randn(n, m).astype(np.float16)\n",
    "W = np.random.randn(m, n).astype(np.float16)\n",
    "\n",
    "def test_time(layer_reg: baseLinLayer, layer_safe: baseLinLayer, max_time: int):\n",
    "    for _ in tqdm(range(max_time), desc=\"Processing\"):\n",
    "        _ = layer_reg.forward(X)\n",
    "        _ = layer_safe.forward(X)\n",
    "    print(\"[TIME TEST] degradation: {}%\".format(((np.mean(layer_safe.time_) / np.mean(layer_reg.time_)) - 1) * 100))\n",
    "\n",
    "\n",
    "def test_bitflip(layer_reg: baseLinLayer, layer_safe: baseLinLayer, reg_pos: int, safe_pos: int):\n",
    "    reg_out = layer_reg.forward(X)\n",
    "    layer_reg.bitflip(reg_pos)\n",
    "    reg_bitflip = layer_reg.forward(X)\n",
    "    print(\"🔴 Without protection:\", np.linalg.norm(reg_out - reg_bitflip))\n",
    "\n",
    "    safe_out = layer_safe.forward(X)\n",
    "    layer_safe.bitflip(safe_pos)\n",
    "    safe_bitflip = layer_safe.forward(X)\n",
    "    print(\"🟢 With RS protection:\", np.linalg.norm(safe_out - safe_bitflip))"
   ]
  },
  {
   "cell_type": "code",
   "execution_count": 562,
   "id": "2efcb1e0",
   "metadata": {},
   "outputs": [],
   "source": [
    "reg = regLinLayer(W)\n",
    "safe = safeLinLayer(W)"
   ]
  },
  {
   "cell_type": "code",
   "execution_count": 563,
   "id": "75673766",
   "metadata": {},
   "outputs": [
    {
     "name": "stderr",
     "output_type": "stream",
     "text": [
      "Processing: 100%|██████████| 1/1 [03:16<00:00, 196.18s/it]"
     ]
    },
    {
     "name": "stdout",
     "output_type": "stream",
     "text": [
      "[TIME TEST] degradation: -18.82766242392512%\n"
     ]
    },
    {
     "name": "stderr",
     "output_type": "stream",
     "text": [
      "\n"
     ]
    }
   ],
   "source": [
    "# #  -------------------------------------- Performance testing --------------------------------------\n",
    "test_time(reg, safe, 1)"
   ]
  },
  {
   "cell_type": "code",
   "execution_count": 565,
   "id": "ddf59eb4",
   "metadata": {},
   "outputs": [
    {
     "name": "stdout",
     "output_type": "stream",
     "text": [
      "source number: 1.0458984375, corr number: 0.004085540771484375\n",
      "🔴 Without protection: 47.44\n",
      "source number: 235, corr number: 107\n",
      "🟢 With RS protection: 0.0\n"
     ]
    }
   ],
   "source": [
    "#  -------------------------------------- Bitflip testing --------------------------------------\n",
    "test_bitflip(reg, safe, 13, 7)"
   ]
  }
 ],
 "metadata": {
  "kernelspec": {
   "display_name": "python",
   "language": "python",
   "name": "python3"
  },
  "language_info": {
   "codemirror_mode": {
    "name": "ipython",
    "version": 3
   },
   "file_extension": ".py",
   "mimetype": "text/x-python",
   "name": "python",
   "nbconvert_exporter": "python",
   "pygments_lexer": "ipython3",
   "version": "3.12.3"
  }
 },
 "nbformat": 4,
 "nbformat_minor": 5
}
